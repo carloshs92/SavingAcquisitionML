{
 "cells": [
  {
   "cell_type": "code",
   "execution_count": 1,
   "metadata": {},
   "outputs": [],
   "source": [
    "#Importar las librerías necesarias en Python.\n",
    "import pandas as pd ## Manejo de dataframes o set de datos\n",
    "import numpy as np ## Todo lo referente a trabajar con vectores y matrices\n",
    "from scipy import stats ## Herramientas y algoritmos matemáticos para python"
   ]
  },
  {
   "cell_type": "code",
   "execution_count": 59,
   "metadata": {},
   "outputs": [],
   "source": [
    "# Leemos la data de desarrollo de modeolos\n",
    "desarrll = pd.read_csv(\"AdquisicionAhorro.csv\") \n",
    "# Leer el dataset en un dataframe usando pandas"
   ]
  },
  {
   "cell_type": "code",
   "execution_count": 60,
   "metadata": {},
   "outputs": [
    {
     "data": {
      "text/html": [
       "<div>\n",
       "<style scoped>\n",
       "    .dataframe tbody tr th:only-of-type {\n",
       "        vertical-align: middle;\n",
       "    }\n",
       "\n",
       "    .dataframe tbody tr th {\n",
       "        vertical-align: top;\n",
       "    }\n",
       "\n",
       "    .dataframe thead th {\n",
       "        text-align: right;\n",
       "    }\n",
       "</style>\n",
       "<table border=\"1\" class=\"dataframe\">\n",
       "  <thead>\n",
       "    <tr style=\"text-align: right;\">\n",
       "      <th></th>\n",
       "      <th>coddoc</th>\n",
       "      <th>edad</th>\n",
       "      <th>estciv</th>\n",
       "      <th>educacion</th>\n",
       "      <th>mora</th>\n",
       "      <th>balance</th>\n",
       "      <th>vivienda</th>\n",
       "      <th>prestamo</th>\n",
       "      <th>dia</th>\n",
       "      <th>duracion</th>\n",
       "      <th>campana</th>\n",
       "      <th>pdias</th>\n",
       "      <th>previo</th>\n",
       "      <th>Adq_Ahorro</th>\n",
       "    </tr>\n",
       "  </thead>\n",
       "  <tbody>\n",
       "    <tr>\n",
       "      <th>0</th>\n",
       "      <td>CODDOC0001</td>\n",
       "      <td>30</td>\n",
       "      <td>married</td>\n",
       "      <td>primaria</td>\n",
       "      <td>no</td>\n",
       "      <td>1787</td>\n",
       "      <td>no</td>\n",
       "      <td>no</td>\n",
       "      <td>19</td>\n",
       "      <td>79</td>\n",
       "      <td>1</td>\n",
       "      <td>-1</td>\n",
       "      <td>0</td>\n",
       "      <td>0</td>\n",
       "    </tr>\n",
       "    <tr>\n",
       "      <th>1</th>\n",
       "      <td>CODDOC0002</td>\n",
       "      <td>33</td>\n",
       "      <td>married</td>\n",
       "      <td>secundaria</td>\n",
       "      <td>no</td>\n",
       "      <td>4789</td>\n",
       "      <td>si</td>\n",
       "      <td>si</td>\n",
       "      <td>11</td>\n",
       "      <td>220</td>\n",
       "      <td>1</td>\n",
       "      <td>339</td>\n",
       "      <td>4</td>\n",
       "      <td>0</td>\n",
       "    </tr>\n",
       "    <tr>\n",
       "      <th>2</th>\n",
       "      <td>CODDOC0003</td>\n",
       "      <td>35</td>\n",
       "      <td>single</td>\n",
       "      <td>terciario</td>\n",
       "      <td>no</td>\n",
       "      <td>1350</td>\n",
       "      <td>si</td>\n",
       "      <td>no</td>\n",
       "      <td>16</td>\n",
       "      <td>185</td>\n",
       "      <td>1</td>\n",
       "      <td>330</td>\n",
       "      <td>1</td>\n",
       "      <td>0</td>\n",
       "    </tr>\n",
       "    <tr>\n",
       "      <th>3</th>\n",
       "      <td>CODDOC0004</td>\n",
       "      <td>30</td>\n",
       "      <td>married</td>\n",
       "      <td>terciario</td>\n",
       "      <td>no</td>\n",
       "      <td>1476</td>\n",
       "      <td>si</td>\n",
       "      <td>si</td>\n",
       "      <td>3</td>\n",
       "      <td>199</td>\n",
       "      <td>4</td>\n",
       "      <td>-1</td>\n",
       "      <td>0</td>\n",
       "      <td>0</td>\n",
       "    </tr>\n",
       "    <tr>\n",
       "      <th>4</th>\n",
       "      <td>CODDOC0006</td>\n",
       "      <td>35</td>\n",
       "      <td>single</td>\n",
       "      <td>terciario</td>\n",
       "      <td>no</td>\n",
       "      <td>747</td>\n",
       "      <td>no</td>\n",
       "      <td>no</td>\n",
       "      <td>23</td>\n",
       "      <td>141</td>\n",
       "      <td>2</td>\n",
       "      <td>176</td>\n",
       "      <td>3</td>\n",
       "      <td>0</td>\n",
       "    </tr>\n",
       "    <tr>\n",
       "      <th>5</th>\n",
       "      <td>CODDOC0009</td>\n",
       "      <td>41</td>\n",
       "      <td>married</td>\n",
       "      <td>terciario</td>\n",
       "      <td>no</td>\n",
       "      <td>221</td>\n",
       "      <td>si</td>\n",
       "      <td>no</td>\n",
       "      <td>14</td>\n",
       "      <td>57</td>\n",
       "      <td>2</td>\n",
       "      <td>-1</td>\n",
       "      <td>0</td>\n",
       "      <td>0</td>\n",
       "    </tr>\n",
       "    <tr>\n",
       "      <th>6</th>\n",
       "      <td>CODDOC0010</td>\n",
       "      <td>43</td>\n",
       "      <td>married</td>\n",
       "      <td>primaria</td>\n",
       "      <td>no</td>\n",
       "      <td>-88</td>\n",
       "      <td>si</td>\n",
       "      <td>si</td>\n",
       "      <td>17</td>\n",
       "      <td>313</td>\n",
       "      <td>1</td>\n",
       "      <td>147</td>\n",
       "      <td>2</td>\n",
       "      <td>0</td>\n",
       "    </tr>\n",
       "    <tr>\n",
       "      <th>7</th>\n",
       "      <td>CODDOC0011</td>\n",
       "      <td>39</td>\n",
       "      <td>married</td>\n",
       "      <td>secundaria</td>\n",
       "      <td>no</td>\n",
       "      <td>9374</td>\n",
       "      <td>si</td>\n",
       "      <td>no</td>\n",
       "      <td>20</td>\n",
       "      <td>273</td>\n",
       "      <td>1</td>\n",
       "      <td>-1</td>\n",
       "      <td>0</td>\n",
       "      <td>0</td>\n",
       "    </tr>\n",
       "    <tr>\n",
       "      <th>8</th>\n",
       "      <td>CODDOC0015</td>\n",
       "      <td>31</td>\n",
       "      <td>married</td>\n",
       "      <td>secundaria</td>\n",
       "      <td>no</td>\n",
       "      <td>360</td>\n",
       "      <td>si</td>\n",
       "      <td>si</td>\n",
       "      <td>29</td>\n",
       "      <td>89</td>\n",
       "      <td>1</td>\n",
       "      <td>241</td>\n",
       "      <td>1</td>\n",
       "      <td>0</td>\n",
       "    </tr>\n",
       "    <tr>\n",
       "      <th>9</th>\n",
       "      <td>CODDOC0019</td>\n",
       "      <td>25</td>\n",
       "      <td>single</td>\n",
       "      <td>primaria</td>\n",
       "      <td>no</td>\n",
       "      <td>-221</td>\n",
       "      <td>si</td>\n",
       "      <td>no</td>\n",
       "      <td>23</td>\n",
       "      <td>250</td>\n",
       "      <td>1</td>\n",
       "      <td>-1</td>\n",
       "      <td>0</td>\n",
       "      <td>0</td>\n",
       "    </tr>\n",
       "  </tbody>\n",
       "</table>\n",
       "</div>"
      ],
      "text/plain": [
       "       coddoc  edad   estciv   educacion mora  balance vivienda prestamo  dia  \\\n",
       "0  CODDOC0001    30  married    primaria   no     1787       no       no   19   \n",
       "1  CODDOC0002    33  married  secundaria   no     4789       si       si   11   \n",
       "2  CODDOC0003    35   single   terciario   no     1350       si       no   16   \n",
       "3  CODDOC0004    30  married   terciario   no     1476       si       si    3   \n",
       "4  CODDOC0006    35   single   terciario   no      747       no       no   23   \n",
       "5  CODDOC0009    41  married   terciario   no      221       si       no   14   \n",
       "6  CODDOC0010    43  married    primaria   no      -88       si       si   17   \n",
       "7  CODDOC0011    39  married  secundaria   no     9374       si       no   20   \n",
       "8  CODDOC0015    31  married  secundaria   no      360       si       si   29   \n",
       "9  CODDOC0019    25   single    primaria   no     -221       si       no   23   \n",
       "\n",
       "   duracion  campana  pdias  previo  Adq_Ahorro  \n",
       "0        79        1     -1       0           0  \n",
       "1       220        1    339       4           0  \n",
       "2       185        1    330       1           0  \n",
       "3       199        4     -1       0           0  \n",
       "4       141        2    176       3           0  \n",
       "5        57        2     -1       0           0  \n",
       "6       313        1    147       2           0  \n",
       "7       273        1     -1       0           0  \n",
       "8        89        1    241       1           0  \n",
       "9       250        1     -1       0           0  "
      ]
     },
     "execution_count": 60,
     "metadata": {},
     "output_type": "execute_result"
    }
   ],
   "source": [
    "desarrll.head(10)"
   ]
  },
  {
   "cell_type": "code",
   "execution_count": 61,
   "metadata": {},
   "outputs": [
    {
     "data": {
      "text/plain": [
       "(2240, 14)"
      ]
     },
     "execution_count": 61,
     "metadata": {},
     "output_type": "execute_result"
    }
   ],
   "source": [
    "# Dimension\n",
    "desarrll.shape\n",
    "# Son 614 obs con 13 columnas"
   ]
  },
  {
   "cell_type": "code",
   "execution_count": 62,
   "metadata": {},
   "outputs": [
    {
     "name": "stdout",
     "output_type": "stream",
     "text": [
      "<class 'pandas.core.frame.DataFrame'>\n",
      "RangeIndex: 2240 entries, 0 to 2239\n",
      "Data columns (total 14 columns):\n",
      "coddoc        2240 non-null object\n",
      "edad          2240 non-null int64\n",
      "estciv        2240 non-null object\n",
      "educacion     2240 non-null object\n",
      "mora          2240 non-null object\n",
      "balance       2240 non-null int64\n",
      "vivienda      2240 non-null object\n",
      "prestamo      2240 non-null object\n",
      "dia           2240 non-null int64\n",
      "duracion      2240 non-null int64\n",
      "campana       2240 non-null int64\n",
      "pdias         2240 non-null int64\n",
      "previo        2240 non-null int64\n",
      "Adq_Ahorro    2240 non-null int64\n",
      "dtypes: int64(8), object(6)\n",
      "memory usage: 245.1+ KB\n"
     ]
    }
   ],
   "source": [
    "#Leer los primeros registros.\n",
    "# Podemos ver la estructura de los datos, es el str de Python\n",
    "desarrll.info()"
   ]
  },
  {
   "cell_type": "code",
   "execution_count": 63,
   "metadata": {},
   "outputs": [
    {
     "data": {
      "text/html": [
       "<div>\n",
       "<style scoped>\n",
       "    .dataframe tbody tr th:only-of-type {\n",
       "        vertical-align: middle;\n",
       "    }\n",
       "\n",
       "    .dataframe tbody tr th {\n",
       "        vertical-align: top;\n",
       "    }\n",
       "\n",
       "    .dataframe thead th {\n",
       "        text-align: right;\n",
       "    }\n",
       "</style>\n",
       "<table border=\"1\" class=\"dataframe\">\n",
       "  <thead>\n",
       "    <tr style=\"text-align: right;\">\n",
       "      <th></th>\n",
       "      <th>edad</th>\n",
       "      <th>balance</th>\n",
       "      <th>dia</th>\n",
       "      <th>duracion</th>\n",
       "      <th>campana</th>\n",
       "      <th>pdias</th>\n",
       "      <th>previo</th>\n",
       "      <th>Adq_Ahorro</th>\n",
       "    </tr>\n",
       "  </thead>\n",
       "  <tbody>\n",
       "    <tr>\n",
       "      <th>count</th>\n",
       "      <td>2240.000000</td>\n",
       "      <td>2240.000000</td>\n",
       "      <td>2240.000000</td>\n",
       "      <td>2240.000000</td>\n",
       "      <td>2240.000000</td>\n",
       "      <td>2240.000000</td>\n",
       "      <td>2240.000000</td>\n",
       "      <td>2240.000000</td>\n",
       "    </tr>\n",
       "    <tr>\n",
       "      <th>mean</th>\n",
       "      <td>41.228125</td>\n",
       "      <td>1424.717857</td>\n",
       "      <td>15.910714</td>\n",
       "      <td>257.935714</td>\n",
       "      <td>2.832143</td>\n",
       "      <td>37.482589</td>\n",
       "      <td>0.519643</td>\n",
       "      <td>0.115179</td>\n",
       "    </tr>\n",
       "    <tr>\n",
       "      <th>std</th>\n",
       "      <td>10.507201</td>\n",
       "      <td>3118.413754</td>\n",
       "      <td>8.241664</td>\n",
       "      <td>248.570889</td>\n",
       "      <td>3.205127</td>\n",
       "      <td>94.996686</td>\n",
       "      <td>1.549991</td>\n",
       "      <td>0.319309</td>\n",
       "    </tr>\n",
       "    <tr>\n",
       "      <th>min</th>\n",
       "      <td>19.000000</td>\n",
       "      <td>-3313.000000</td>\n",
       "      <td>1.000000</td>\n",
       "      <td>4.000000</td>\n",
       "      <td>1.000000</td>\n",
       "      <td>-1.000000</td>\n",
       "      <td>0.000000</td>\n",
       "      <td>0.000000</td>\n",
       "    </tr>\n",
       "    <tr>\n",
       "      <th>25%</th>\n",
       "      <td>33.000000</td>\n",
       "      <td>63.000000</td>\n",
       "      <td>9.000000</td>\n",
       "      <td>103.000000</td>\n",
       "      <td>1.000000</td>\n",
       "      <td>-1.000000</td>\n",
       "      <td>0.000000</td>\n",
       "      <td>0.000000</td>\n",
       "    </tr>\n",
       "    <tr>\n",
       "      <th>50%</th>\n",
       "      <td>39.500000</td>\n",
       "      <td>437.000000</td>\n",
       "      <td>16.000000</td>\n",
       "      <td>182.000000</td>\n",
       "      <td>2.000000</td>\n",
       "      <td>-1.000000</td>\n",
       "      <td>0.000000</td>\n",
       "      <td>0.000000</td>\n",
       "    </tr>\n",
       "    <tr>\n",
       "      <th>75%</th>\n",
       "      <td>48.000000</td>\n",
       "      <td>1503.750000</td>\n",
       "      <td>21.000000</td>\n",
       "      <td>319.250000</td>\n",
       "      <td>3.000000</td>\n",
       "      <td>-1.000000</td>\n",
       "      <td>0.000000</td>\n",
       "      <td>0.000000</td>\n",
       "    </tr>\n",
       "    <tr>\n",
       "      <th>max</th>\n",
       "      <td>86.000000</td>\n",
       "      <td>71188.000000</td>\n",
       "      <td>31.000000</td>\n",
       "      <td>3025.000000</td>\n",
       "      <td>50.000000</td>\n",
       "      <td>808.000000</td>\n",
       "      <td>23.000000</td>\n",
       "      <td>1.000000</td>\n",
       "    </tr>\n",
       "  </tbody>\n",
       "</table>\n",
       "</div>"
      ],
      "text/plain": [
       "              edad       balance          dia     duracion      campana  \\\n",
       "count  2240.000000   2240.000000  2240.000000  2240.000000  2240.000000   \n",
       "mean     41.228125   1424.717857    15.910714   257.935714     2.832143   \n",
       "std      10.507201   3118.413754     8.241664   248.570889     3.205127   \n",
       "min      19.000000  -3313.000000     1.000000     4.000000     1.000000   \n",
       "25%      33.000000     63.000000     9.000000   103.000000     1.000000   \n",
       "50%      39.500000    437.000000    16.000000   182.000000     2.000000   \n",
       "75%      48.000000   1503.750000    21.000000   319.250000     3.000000   \n",
       "max      86.000000  71188.000000    31.000000  3025.000000    50.000000   \n",
       "\n",
       "             pdias       previo   Adq_Ahorro  \n",
       "count  2240.000000  2240.000000  2240.000000  \n",
       "mean     37.482589     0.519643     0.115179  \n",
       "std      94.996686     1.549991     0.319309  \n",
       "min      -1.000000     0.000000     0.000000  \n",
       "25%      -1.000000     0.000000     0.000000  \n",
       "50%      -1.000000     0.000000     0.000000  \n",
       "75%      -1.000000     0.000000     0.000000  \n",
       "max     808.000000    23.000000     1.000000  "
      ]
     },
     "execution_count": 63,
     "metadata": {},
     "output_type": "execute_result"
    }
   ],
   "source": [
    "desarrll.describe() #Resumen de la información cuantitativa"
   ]
  },
  {
   "cell_type": "code",
   "execution_count": 64,
   "metadata": {},
   "outputs": [
    {
     "data": {
      "text/plain": [
       "0        married\n",
       "1        married\n",
       "2         single\n",
       "3        married\n",
       "4         single\n",
       "5        married\n",
       "6        married\n",
       "7        married\n",
       "8        married\n",
       "9         single\n",
       "10      divorced\n",
       "11      divorced\n",
       "12       married\n",
       "13       married\n",
       "14      divorced\n",
       "15       married\n",
       "16        single\n",
       "17      divorced\n",
       "18      divorced\n",
       "19        single\n",
       "20       married\n",
       "21        single\n",
       "22        single\n",
       "23       married\n",
       "24       married\n",
       "25        single\n",
       "26       married\n",
       "27        single\n",
       "28       married\n",
       "29       married\n",
       "          ...   \n",
       "2210    divorced\n",
       "2211      single\n",
       "2212     married\n",
       "2213     married\n",
       "2214      single\n",
       "2215     married\n",
       "2216      single\n",
       "2217     married\n",
       "2218     married\n",
       "2219     married\n",
       "2220    divorced\n",
       "2221      single\n",
       "2222     married\n",
       "2223      single\n",
       "2224      single\n",
       "2225      single\n",
       "2226      single\n",
       "2227      single\n",
       "2228     married\n",
       "2229     married\n",
       "2230     married\n",
       "2231     married\n",
       "2232     married\n",
       "2233    divorced\n",
       "2234     married\n",
       "2235     married\n",
       "2236     married\n",
       "2237     married\n",
       "2238     married\n",
       "2239      single\n",
       "Name: estciv, Length: 2240, dtype: category\n",
       "Categories (3, object): [divorced, married, single]"
      ]
     },
     "execution_count": 64,
     "metadata": {},
     "output_type": "execute_result"
    }
   ],
   "source": [
    "# Cambiando data\n",
    "# desarrll['estciv'].unique()\n",
    "# desarrll['estciv'].replace([0, 1, 2],['married', 'single', 'divorced'],inplace=True)\n",
    "desarrll['estciv'].astype('category')"
   ]
  },
  {
   "cell_type": "code",
   "execution_count": 65,
   "metadata": {},
   "outputs": [],
   "source": [
    "# One-Hot Encoding in Python\n",
    "# Using dummies values approach:\n",
    "desarrll = pd.get_dummies(desarrll, columns=[\"estciv\"], prefix=[\"estciv_is\"] )\n",
    "desarrll = pd.get_dummies(desarrll, columns=[\"educacion\"], prefix=[\"educacion_is\"] ) \n",
    "desarrll = pd.get_dummies(desarrll, columns=[\"mora\"], prefix=[\"mora_is\"] ) \n",
    "desarrll = pd.get_dummies(desarrll, columns=[\"vivienda\"], prefix=[\"vivienda_is\"] ) \n",
    "desarrll = pd.get_dummies(desarrll, columns=[\"prestamo\"], prefix=[\"prestamo_is\"] ) "
   ]
  },
  {
   "cell_type": "code",
   "execution_count": 66,
   "metadata": {},
   "outputs": [
    {
     "data": {
      "text/html": [
       "<div>\n",
       "<style scoped>\n",
       "    .dataframe tbody tr th:only-of-type {\n",
       "        vertical-align: middle;\n",
       "    }\n",
       "\n",
       "    .dataframe tbody tr th {\n",
       "        vertical-align: top;\n",
       "    }\n",
       "\n",
       "    .dataframe thead th {\n",
       "        text-align: right;\n",
       "    }\n",
       "</style>\n",
       "<table border=\"1\" class=\"dataframe\">\n",
       "  <thead>\n",
       "    <tr style=\"text-align: right;\">\n",
       "      <th></th>\n",
       "      <th>edad</th>\n",
       "      <th>balance</th>\n",
       "      <th>dia</th>\n",
       "      <th>duracion</th>\n",
       "      <th>campana</th>\n",
       "      <th>pdias</th>\n",
       "      <th>previo</th>\n",
       "      <th>Adq_Ahorro</th>\n",
       "      <th>estciv_is_divorced</th>\n",
       "      <th>estciv_is_married</th>\n",
       "      <th>...</th>\n",
       "      <th>educacion_is_desconocido</th>\n",
       "      <th>educacion_is_primaria</th>\n",
       "      <th>educacion_is_secundaria</th>\n",
       "      <th>educacion_is_terciario</th>\n",
       "      <th>mora_is_no</th>\n",
       "      <th>mora_is_si</th>\n",
       "      <th>vivienda_is_no</th>\n",
       "      <th>vivienda_is_si</th>\n",
       "      <th>prestamo_is_no</th>\n",
       "      <th>prestamo_is_si</th>\n",
       "    </tr>\n",
       "  </thead>\n",
       "  <tbody>\n",
       "    <tr>\n",
       "      <th>0</th>\n",
       "      <td>30</td>\n",
       "      <td>1787</td>\n",
       "      <td>19</td>\n",
       "      <td>79</td>\n",
       "      <td>1</td>\n",
       "      <td>-1</td>\n",
       "      <td>0</td>\n",
       "      <td>0</td>\n",
       "      <td>0</td>\n",
       "      <td>1</td>\n",
       "      <td>...</td>\n",
       "      <td>0</td>\n",
       "      <td>1</td>\n",
       "      <td>0</td>\n",
       "      <td>0</td>\n",
       "      <td>1</td>\n",
       "      <td>0</td>\n",
       "      <td>1</td>\n",
       "      <td>0</td>\n",
       "      <td>1</td>\n",
       "      <td>0</td>\n",
       "    </tr>\n",
       "    <tr>\n",
       "      <th>1</th>\n",
       "      <td>33</td>\n",
       "      <td>4789</td>\n",
       "      <td>11</td>\n",
       "      <td>220</td>\n",
       "      <td>1</td>\n",
       "      <td>339</td>\n",
       "      <td>4</td>\n",
       "      <td>0</td>\n",
       "      <td>0</td>\n",
       "      <td>1</td>\n",
       "      <td>...</td>\n",
       "      <td>0</td>\n",
       "      <td>0</td>\n",
       "      <td>1</td>\n",
       "      <td>0</td>\n",
       "      <td>1</td>\n",
       "      <td>0</td>\n",
       "      <td>0</td>\n",
       "      <td>1</td>\n",
       "      <td>0</td>\n",
       "      <td>1</td>\n",
       "    </tr>\n",
       "    <tr>\n",
       "      <th>2</th>\n",
       "      <td>35</td>\n",
       "      <td>1350</td>\n",
       "      <td>16</td>\n",
       "      <td>185</td>\n",
       "      <td>1</td>\n",
       "      <td>330</td>\n",
       "      <td>1</td>\n",
       "      <td>0</td>\n",
       "      <td>0</td>\n",
       "      <td>0</td>\n",
       "      <td>...</td>\n",
       "      <td>0</td>\n",
       "      <td>0</td>\n",
       "      <td>0</td>\n",
       "      <td>1</td>\n",
       "      <td>1</td>\n",
       "      <td>0</td>\n",
       "      <td>0</td>\n",
       "      <td>1</td>\n",
       "      <td>1</td>\n",
       "      <td>0</td>\n",
       "    </tr>\n",
       "    <tr>\n",
       "      <th>3</th>\n",
       "      <td>30</td>\n",
       "      <td>1476</td>\n",
       "      <td>3</td>\n",
       "      <td>199</td>\n",
       "      <td>4</td>\n",
       "      <td>-1</td>\n",
       "      <td>0</td>\n",
       "      <td>0</td>\n",
       "      <td>0</td>\n",
       "      <td>1</td>\n",
       "      <td>...</td>\n",
       "      <td>0</td>\n",
       "      <td>0</td>\n",
       "      <td>0</td>\n",
       "      <td>1</td>\n",
       "      <td>1</td>\n",
       "      <td>0</td>\n",
       "      <td>0</td>\n",
       "      <td>1</td>\n",
       "      <td>0</td>\n",
       "      <td>1</td>\n",
       "    </tr>\n",
       "    <tr>\n",
       "      <th>4</th>\n",
       "      <td>35</td>\n",
       "      <td>747</td>\n",
       "      <td>23</td>\n",
       "      <td>141</td>\n",
       "      <td>2</td>\n",
       "      <td>176</td>\n",
       "      <td>3</td>\n",
       "      <td>0</td>\n",
       "      <td>0</td>\n",
       "      <td>0</td>\n",
       "      <td>...</td>\n",
       "      <td>0</td>\n",
       "      <td>0</td>\n",
       "      <td>0</td>\n",
       "      <td>1</td>\n",
       "      <td>1</td>\n",
       "      <td>0</td>\n",
       "      <td>1</td>\n",
       "      <td>0</td>\n",
       "      <td>1</td>\n",
       "      <td>0</td>\n",
       "    </tr>\n",
       "    <tr>\n",
       "      <th>5</th>\n",
       "      <td>41</td>\n",
       "      <td>221</td>\n",
       "      <td>14</td>\n",
       "      <td>57</td>\n",
       "      <td>2</td>\n",
       "      <td>-1</td>\n",
       "      <td>0</td>\n",
       "      <td>0</td>\n",
       "      <td>0</td>\n",
       "      <td>1</td>\n",
       "      <td>...</td>\n",
       "      <td>0</td>\n",
       "      <td>0</td>\n",
       "      <td>0</td>\n",
       "      <td>1</td>\n",
       "      <td>1</td>\n",
       "      <td>0</td>\n",
       "      <td>0</td>\n",
       "      <td>1</td>\n",
       "      <td>1</td>\n",
       "      <td>0</td>\n",
       "    </tr>\n",
       "    <tr>\n",
       "      <th>6</th>\n",
       "      <td>43</td>\n",
       "      <td>-88</td>\n",
       "      <td>17</td>\n",
       "      <td>313</td>\n",
       "      <td>1</td>\n",
       "      <td>147</td>\n",
       "      <td>2</td>\n",
       "      <td>0</td>\n",
       "      <td>0</td>\n",
       "      <td>1</td>\n",
       "      <td>...</td>\n",
       "      <td>0</td>\n",
       "      <td>1</td>\n",
       "      <td>0</td>\n",
       "      <td>0</td>\n",
       "      <td>1</td>\n",
       "      <td>0</td>\n",
       "      <td>0</td>\n",
       "      <td>1</td>\n",
       "      <td>0</td>\n",
       "      <td>1</td>\n",
       "    </tr>\n",
       "    <tr>\n",
       "      <th>7</th>\n",
       "      <td>39</td>\n",
       "      <td>9374</td>\n",
       "      <td>20</td>\n",
       "      <td>273</td>\n",
       "      <td>1</td>\n",
       "      <td>-1</td>\n",
       "      <td>0</td>\n",
       "      <td>0</td>\n",
       "      <td>0</td>\n",
       "      <td>1</td>\n",
       "      <td>...</td>\n",
       "      <td>0</td>\n",
       "      <td>0</td>\n",
       "      <td>1</td>\n",
       "      <td>0</td>\n",
       "      <td>1</td>\n",
       "      <td>0</td>\n",
       "      <td>0</td>\n",
       "      <td>1</td>\n",
       "      <td>1</td>\n",
       "      <td>0</td>\n",
       "    </tr>\n",
       "    <tr>\n",
       "      <th>8</th>\n",
       "      <td>31</td>\n",
       "      <td>360</td>\n",
       "      <td>29</td>\n",
       "      <td>89</td>\n",
       "      <td>1</td>\n",
       "      <td>241</td>\n",
       "      <td>1</td>\n",
       "      <td>0</td>\n",
       "      <td>0</td>\n",
       "      <td>1</td>\n",
       "      <td>...</td>\n",
       "      <td>0</td>\n",
       "      <td>0</td>\n",
       "      <td>1</td>\n",
       "      <td>0</td>\n",
       "      <td>1</td>\n",
       "      <td>0</td>\n",
       "      <td>0</td>\n",
       "      <td>1</td>\n",
       "      <td>0</td>\n",
       "      <td>1</td>\n",
       "    </tr>\n",
       "    <tr>\n",
       "      <th>9</th>\n",
       "      <td>25</td>\n",
       "      <td>-221</td>\n",
       "      <td>23</td>\n",
       "      <td>250</td>\n",
       "      <td>1</td>\n",
       "      <td>-1</td>\n",
       "      <td>0</td>\n",
       "      <td>0</td>\n",
       "      <td>0</td>\n",
       "      <td>0</td>\n",
       "      <td>...</td>\n",
       "      <td>0</td>\n",
       "      <td>1</td>\n",
       "      <td>0</td>\n",
       "      <td>0</td>\n",
       "      <td>1</td>\n",
       "      <td>0</td>\n",
       "      <td>0</td>\n",
       "      <td>1</td>\n",
       "      <td>1</td>\n",
       "      <td>0</td>\n",
       "    </tr>\n",
       "  </tbody>\n",
       "</table>\n",
       "<p>10 rows × 21 columns</p>\n",
       "</div>"
      ],
      "text/plain": [
       "   edad  balance  dia  duracion  campana  pdias  previo  Adq_Ahorro  \\\n",
       "0    30     1787   19        79        1     -1       0           0   \n",
       "1    33     4789   11       220        1    339       4           0   \n",
       "2    35     1350   16       185        1    330       1           0   \n",
       "3    30     1476    3       199        4     -1       0           0   \n",
       "4    35      747   23       141        2    176       3           0   \n",
       "5    41      221   14        57        2     -1       0           0   \n",
       "6    43      -88   17       313        1    147       2           0   \n",
       "7    39     9374   20       273        1     -1       0           0   \n",
       "8    31      360   29        89        1    241       1           0   \n",
       "9    25     -221   23       250        1     -1       0           0   \n",
       "\n",
       "   estciv_is_divorced  estciv_is_married  ...  educacion_is_desconocido  \\\n",
       "0                   0                  1  ...                         0   \n",
       "1                   0                  1  ...                         0   \n",
       "2                   0                  0  ...                         0   \n",
       "3                   0                  1  ...                         0   \n",
       "4                   0                  0  ...                         0   \n",
       "5                   0                  1  ...                         0   \n",
       "6                   0                  1  ...                         0   \n",
       "7                   0                  1  ...                         0   \n",
       "8                   0                  1  ...                         0   \n",
       "9                   0                  0  ...                         0   \n",
       "\n",
       "   educacion_is_primaria  educacion_is_secundaria  educacion_is_terciario  \\\n",
       "0                      1                        0                       0   \n",
       "1                      0                        1                       0   \n",
       "2                      0                        0                       1   \n",
       "3                      0                        0                       1   \n",
       "4                      0                        0                       1   \n",
       "5                      0                        0                       1   \n",
       "6                      1                        0                       0   \n",
       "7                      0                        1                       0   \n",
       "8                      0                        1                       0   \n",
       "9                      1                        0                       0   \n",
       "\n",
       "   mora_is_no  mora_is_si  vivienda_is_no  vivienda_is_si  prestamo_is_no  \\\n",
       "0           1           0               1               0               1   \n",
       "1           1           0               0               1               0   \n",
       "2           1           0               0               1               1   \n",
       "3           1           0               0               1               0   \n",
       "4           1           0               1               0               1   \n",
       "5           1           0               0               1               1   \n",
       "6           1           0               0               1               0   \n",
       "7           1           0               0               1               1   \n",
       "8           1           0               0               1               0   \n",
       "9           1           0               0               1               1   \n",
       "\n",
       "   prestamo_is_si  \n",
       "0               0  \n",
       "1               1  \n",
       "2               0  \n",
       "3               1  \n",
       "4               0  \n",
       "5               0  \n",
       "6               1  \n",
       "7               0  \n",
       "8               1  \n",
       "9               0  \n",
       "\n",
       "[10 rows x 21 columns]"
      ]
     },
     "execution_count": 66,
     "metadata": {},
     "output_type": "execute_result"
    }
   ],
   "source": [
    "desarrll = desarrll.drop('coddoc', axis=1)\n",
    "desarrll.head(10)"
   ]
  },
  {
   "cell_type": "code",
   "execution_count": 67,
   "metadata": {},
   "outputs": [],
   "source": [
    "# Análisis Univariado de los atributos del data set\n",
    "%matplotlib inline\n",
    "import matplotlib.pyplot as plt"
   ]
  },
  {
   "cell_type": "code",
   "execution_count": 68,
   "metadata": {},
   "outputs": [
    {
     "data": {
      "text/plain": [
       "<matplotlib.axes._subplots.AxesSubplot at 0x22f9af80400>"
      ]
     },
     "execution_count": 68,
     "metadata": {},
     "output_type": "execute_result"
    },
    {
     "data": {
      "image/png": "[encoded data removed]",
      "text/plain": [
       "<Figure size 432x288 with 1 Axes>"
      ]
     },
     "metadata": {
      "needs_background": "light"
     },
     "output_type": "display_data"
    }
   ],
   "source": [
    "desarrll['edad'].hist()"
   ]
  },
  {
   "cell_type": "code",
   "execution_count": 69,
   "metadata": {},
   "outputs": [
    {
     "data": {
      "text/plain": [
       "<matplotlib.axes._subplots.AxesSubplot at 0x22f9b55f278>"
      ]
     },
     "execution_count": 69,
     "metadata": {},
     "output_type": "execute_result"
    },
    {
     "data": {
      "image/png": "[encoded data removed]",
      "text/plain": [
       "<Figure size 432x288 with 1 Axes>"
      ]
     },
     "metadata": {
      "needs_background": "light"
     },
     "output_type": "display_data"
    }
   ],
   "source": [
    "desarrll['balance'].hist()"
   ]
  },
  {
   "cell_type": "code",
   "execution_count": 70,
   "metadata": {},
   "outputs": [
    {
     "data": {
      "text/plain": [
       "<matplotlib.axes._subplots.AxesSubplot at 0x22f9b527208>"
      ]
     },
     "execution_count": 70,
     "metadata": {},
     "output_type": "execute_result"
    },
    {
     "data": {
      "image/png": "[encoded data removed]",
      "text/plain": [
       "<Figure size 432x288 with 1 Axes>"
      ]
     },
     "metadata": {
      "needs_background": "light"
     },
     "output_type": "display_data"
    }
   ],
   "source": [
    "desarrll['duracion'].hist()"
   ]
  },
  {
   "cell_type": "code",
   "execution_count": 71,
   "metadata": {},
   "outputs": [],
   "source": [
    "%matplotlib inline\n",
    "import matplotlib.pyplot as plt"
   ]
  },
  {
   "cell_type": "code",
   "execution_count": 72,
   "metadata": {},
   "outputs": [
    {
     "data": {
      "text/plain": [
       "<matplotlib.axes._subplots.AxesSubplot at 0x22f9b32ce48>"
      ]
     },
     "execution_count": 72,
     "metadata": {},
     "output_type": "execute_result"
    },
    {
     "data": {
      "image/png": "[encoded data removed]",
      "text/plain": [
       "<Figure size 576x576 with 1 Axes>"
      ]
     },
     "metadata": {
      "needs_background": "light"
     },
     "output_type": "display_data"
    }
   ],
   "source": [
    "plt.title('Histograma de la Variable Campana')\n",
    "desarrll['campana'].hist(figsize=(8,8),color=\"blue\",bins=100)"
   ]
  },
  {
   "cell_type": "code",
   "execution_count": 73,
   "metadata": {},
   "outputs": [
    {
     "data": {
      "text/plain": [
       "<matplotlib.axes._subplots.AxesSubplot at 0x22f9b179be0>"
      ]
     },
     "execution_count": 73,
     "metadata": {},
     "output_type": "execute_result"
    },
    {
     "data": {
      "image/png": "[encoded data removed]",
      "text/plain": [
       "<Figure size 576x576 with 1 Axes>"
      ]
     },
     "metadata": {
      "needs_background": "light"
     },
     "output_type": "display_data"
    }
   ],
   "source": [
    "plt.title('Histograma de la Variable Balance')\n",
    "desarrll['balance'].hist(figsize=(8,8),color=\"blue\",bins=100)"
   ]
  },
  {
   "cell_type": "code",
   "execution_count": 74,
   "metadata": {},
   "outputs": [],
   "source": [
    "# Gráfico de Cajas\n",
    "import pandas as pd\n",
    "%matplotlib inline\n",
    "import matplotlib.pyplot as plt"
   ]
  },
  {
   "cell_type": "code",
   "execution_count": 75,
   "metadata": {},
   "outputs": [
    {
     "data": {
      "text/plain": [
       "<matplotlib.axes._subplots.AxesSubplot at 0x22f9b2a3b00>"
      ]
     },
     "execution_count": 75,
     "metadata": {},
     "output_type": "execute_result"
    },
    {
     "data": {
      "image/png": "[encoded data removed]",
      "text/plain": [
       "<Figure size 432x288 with 1 Axes>"
      ]
     },
     "metadata": {
      "needs_background": "light"
     },
     "output_type": "display_data"
    }
   ],
   "source": [
    "plt.title('Gráfico de Cajas de Balance')\n",
    "#train.boxplot(column='LoanAmount',showfliers='T',notch=0, sym='+', vert=1, whis=1.5)\n",
    "desarrll.boxplot(column='balance')"
   ]
  },
  {
   "cell_type": "code",
   "execution_count": 76,
   "metadata": {},
   "outputs": [
    {
     "data": {
      "text/plain": [
       "<matplotlib.axes._subplots.AxesSubplot at 0x22f9b3a5ef0>"
      ]
     },
     "execution_count": 76,
     "metadata": {},
     "output_type": "execute_result"
    },
    {
     "data": {
      "image/png": "[encoded data removed]",
      "text/plain": [
       "<Figure size 432x288 with 1 Axes>"
      ]
     },
     "metadata": {
      "needs_background": "light"
     },
     "output_type": "display_data"
    }
   ],
   "source": [
    "plt.title('Gráfico de Cajas de Duracion')\n",
    "desarrll.boxplot(column='duracion')"
   ]
  },
  {
   "cell_type": "code",
   "execution_count": 77,
   "metadata": {},
   "outputs": [
    {
     "data": {
      "text/plain": [
       "<matplotlib.axes._subplots.AxesSubplot at 0x22f9b404d68>"
      ]
     },
     "execution_count": 77,
     "metadata": {},
     "output_type": "execute_result"
    },
    {
     "data": {
      "image/png": "[encoded data removed]",
      "text/plain": [
       "<Figure size 432x288 with 1 Axes>"
      ]
     },
     "metadata": {
      "needs_background": "light"
     },
     "output_type": "display_data"
    }
   ],
   "source": [
    "plt.title('Gráfico de Cajas de Campana')\n",
    "desarrll.boxplot(column='campana')"
   ]
  },
  {
   "cell_type": "code",
   "execution_count": 78,
   "metadata": {},
   "outputs": [],
   "source": [
    "# Creamos una funcion para poder visualizar los percentiles\n",
    "def Cuantiles(lista):\n",
    "    c = [0,1,5,10,20,30,40,50,60,70,80,90,92.5,95,97.5,99,99.5,100]\n",
    "    matrix = pd.concat([pd.DataFrame(c),pd.DataFrame(np.percentile(lista.dropna(),c))],axis = 1)\n",
    "    matrix.columns = [\"Cuantil\",\"Valor_Cuantil\"]\n",
    "    return(matrix)"
   ]
  },
  {
   "cell_type": "code",
   "execution_count": 79,
   "metadata": {},
   "outputs": [
    {
     "data": {
      "text/html": [
       "<div>\n",
       "<style scoped>\n",
       "    .dataframe tbody tr th:only-of-type {\n",
       "        vertical-align: middle;\n",
       "    }\n",
       "\n",
       "    .dataframe tbody tr th {\n",
       "        vertical-align: top;\n",
       "    }\n",
       "\n",
       "    .dataframe thead th {\n",
       "        text-align: right;\n",
       "    }\n",
       "</style>\n",
       "<table border=\"1\" class=\"dataframe\">\n",
       "  <thead>\n",
       "    <tr style=\"text-align: right;\">\n",
       "      <th></th>\n",
       "      <th>0</th>\n",
       "      <th>1</th>\n",
       "      <th>2</th>\n",
       "      <th>3</th>\n",
       "      <th>4</th>\n",
       "      <th>5</th>\n",
       "      <th>6</th>\n",
       "      <th>7</th>\n",
       "      <th>8</th>\n",
       "      <th>9</th>\n",
       "      <th>10</th>\n",
       "      <th>11</th>\n",
       "      <th>12</th>\n",
       "      <th>13</th>\n",
       "      <th>14</th>\n",
       "      <th>15</th>\n",
       "      <th>16</th>\n",
       "      <th>17</th>\n",
       "    </tr>\n",
       "  </thead>\n",
       "  <tbody>\n",
       "    <tr>\n",
       "      <th>Cuantil</th>\n",
       "      <td>0.0</td>\n",
       "      <td>1.00</td>\n",
       "      <td>5.00</td>\n",
       "      <td>10.0</td>\n",
       "      <td>20.0</td>\n",
       "      <td>30.0</td>\n",
       "      <td>40.0</td>\n",
       "      <td>50.0</td>\n",
       "      <td>60.0</td>\n",
       "      <td>70.0</td>\n",
       "      <td>80.0</td>\n",
       "      <td>90.0</td>\n",
       "      <td>92.500</td>\n",
       "      <td>95.00</td>\n",
       "      <td>97.5</td>\n",
       "      <td>99.00</td>\n",
       "      <td>99.50</td>\n",
       "      <td>100.0</td>\n",
       "    </tr>\n",
       "    <tr>\n",
       "      <th>Valor_Cuantil</th>\n",
       "      <td>-3313.0</td>\n",
       "      <td>-799.82</td>\n",
       "      <td>-217.05</td>\n",
       "      <td>0.0</td>\n",
       "      <td>14.0</td>\n",
       "      <td>113.0</td>\n",
       "      <td>251.0</td>\n",
       "      <td>437.0</td>\n",
       "      <td>720.2</td>\n",
       "      <td>1148.0</td>\n",
       "      <td>1989.2</td>\n",
       "      <td>3872.1</td>\n",
       "      <td>4761.875</td>\n",
       "      <td>6145.95</td>\n",
       "      <td>9269.9</td>\n",
       "      <td>13700.08</td>\n",
       "      <td>19127.85</td>\n",
       "      <td>71188.0</td>\n",
       "    </tr>\n",
       "  </tbody>\n",
       "</table>\n",
       "</div>"
      ],
      "text/plain": [
       "                   0       1       2     3     4      5      6      7      8   \\\n",
       "Cuantil           0.0    1.00    5.00  10.0  20.0   30.0   40.0   50.0   60.0   \n",
       "Valor_Cuantil -3313.0 -799.82 -217.05   0.0  14.0  113.0  251.0  437.0  720.2   \n",
       "\n",
       "                   9       10      11        12       13      14        15  \\\n",
       "Cuantil          70.0    80.0    90.0    92.500    95.00    97.5     99.00   \n",
       "Valor_Cuantil  1148.0  1989.2  3872.1  4761.875  6145.95  9269.9  13700.08   \n",
       "\n",
       "                     16       17  \n",
       "Cuantil           99.50    100.0  \n",
       "Valor_Cuantil  19127.85  71188.0  "
      ]
     },
     "execution_count": 79,
     "metadata": {},
     "output_type": "execute_result"
    }
   ],
   "source": [
    "# Analizamos las variables numericas\n",
    "# Variable\n",
    "Cuantiles(desarrll[\"balance\"]).transpose()\n",
    "# Nos hacemos la pregunta, podríamos acotar la variable?"
   ]
  },
  {
   "cell_type": "code",
   "execution_count": 80,
   "metadata": {},
   "outputs": [],
   "source": [
    "# Tratamiento para la variable ApplicantIncome\n",
    "cuantil_1 = np.percentile(desarrll[\"balance\"],1)\n",
    "cuantil_99 = np.percentile(desarrll[\"balance\"],99.5)\n",
    "\n",
    "# Reemplazamos el valor minimo y maximo\n",
    "desarrll.loc[desarrll[\"balance\"]<cuantil_1,\"balance\"] = cuantil_1\n",
    "desarrll.loc[desarrll[\"balance\"]>cuantil_99,\"balance\"] = cuantil_99"
   ]
  },
  {
   "cell_type": "code",
   "execution_count": 81,
   "metadata": {},
   "outputs": [
    {
     "data": {
      "text/plain": [
       "<matplotlib.axes._subplots.AxesSubplot at 0x22f9b460198>"
      ]
     },
     "execution_count": 81,
     "metadata": {},
     "output_type": "execute_result"
    },
    {
     "data": {
      "image/png": "[encoded data removed]",
      "text/plain": [
       "<Figure size 432x288 with 1 Axes>"
      ]
     },
     "metadata": {
      "needs_background": "light"
     },
     "output_type": "display_data"
    }
   ],
   "source": [
    "plt.title('Gráfico de Cajas de Balance')\n",
    "desarrll.boxplot(column='balance')"
   ]
  },
  {
   "cell_type": "code",
   "execution_count": 82,
   "metadata": {},
   "outputs": [
    {
     "data": {
      "text/html": [
       "<div>\n",
       "<style scoped>\n",
       "    .dataframe tbody tr th:only-of-type {\n",
       "        vertical-align: middle;\n",
       "    }\n",
       "\n",
       "    .dataframe tbody tr th {\n",
       "        vertical-align: top;\n",
       "    }\n",
       "\n",
       "    .dataframe thead th {\n",
       "        text-align: right;\n",
       "    }\n",
       "</style>\n",
       "<table border=\"1\" class=\"dataframe\">\n",
       "  <thead>\n",
       "    <tr style=\"text-align: right;\">\n",
       "      <th></th>\n",
       "      <th>0</th>\n",
       "      <th>1</th>\n",
       "      <th>2</th>\n",
       "      <th>3</th>\n",
       "      <th>4</th>\n",
       "      <th>5</th>\n",
       "      <th>6</th>\n",
       "      <th>7</th>\n",
       "      <th>8</th>\n",
       "      <th>9</th>\n",
       "      <th>10</th>\n",
       "      <th>11</th>\n",
       "      <th>12</th>\n",
       "      <th>13</th>\n",
       "      <th>14</th>\n",
       "      <th>15</th>\n",
       "      <th>16</th>\n",
       "      <th>17</th>\n",
       "    </tr>\n",
       "  </thead>\n",
       "  <tbody>\n",
       "    <tr>\n",
       "      <th>Cuantil</th>\n",
       "      <td>0.00</td>\n",
       "      <td>1.0000</td>\n",
       "      <td>5.00</td>\n",
       "      <td>10.0</td>\n",
       "      <td>20.0</td>\n",
       "      <td>30.0</td>\n",
       "      <td>40.0</td>\n",
       "      <td>50.0</td>\n",
       "      <td>60.0</td>\n",
       "      <td>70.0</td>\n",
       "      <td>80.0</td>\n",
       "      <td>90.0</td>\n",
       "      <td>92.500</td>\n",
       "      <td>95.00</td>\n",
       "      <td>97.5</td>\n",
       "      <td>99.00</td>\n",
       "      <td>99.50000</td>\n",
       "      <td>100.00</td>\n",
       "    </tr>\n",
       "    <tr>\n",
       "      <th>Valor_Cuantil</th>\n",
       "      <td>-799.82</td>\n",
       "      <td>-785.0702</td>\n",
       "      <td>-217.05</td>\n",
       "      <td>0.0</td>\n",
       "      <td>14.0</td>\n",
       "      <td>113.0</td>\n",
       "      <td>251.0</td>\n",
       "      <td>437.0</td>\n",
       "      <td>720.2</td>\n",
       "      <td>1148.0</td>\n",
       "      <td>1989.2</td>\n",
       "      <td>3872.1</td>\n",
       "      <td>4761.875</td>\n",
       "      <td>6145.95</td>\n",
       "      <td>9269.9</td>\n",
       "      <td>13700.08</td>\n",
       "      <td>18975.58425</td>\n",
       "      <td>19127.85</td>\n",
       "    </tr>\n",
       "  </tbody>\n",
       "</table>\n",
       "</div>"
      ],
      "text/plain": [
       "                   0         1       2     3     4      5      6      7   \\\n",
       "Cuantil          0.00    1.0000    5.00  10.0  20.0   30.0   40.0   50.0   \n",
       "Valor_Cuantil -799.82 -785.0702 -217.05   0.0  14.0  113.0  251.0  437.0   \n",
       "\n",
       "                  8       9       10      11        12       13      14  \\\n",
       "Cuantil         60.0    70.0    80.0    90.0    92.500    95.00    97.5   \n",
       "Valor_Cuantil  720.2  1148.0  1989.2  3872.1  4761.875  6145.95  9269.9   \n",
       "\n",
       "                     15           16        17  \n",
       "Cuantil           99.00     99.50000    100.00  \n",
       "Valor_Cuantil  13700.08  18975.58425  19127.85  "
      ]
     },
     "execution_count": 82,
     "metadata": {},
     "output_type": "execute_result"
    }
   ],
   "source": [
    "Cuantiles(desarrll[\"balance\"]).transpose()"
   ]
  },
  {
   "cell_type": "code",
   "execution_count": 83,
   "metadata": {},
   "outputs": [
    {
     "data": {
      "text/html": [
       "<div>\n",
       "<style scoped>\n",
       "    .dataframe tbody tr th:only-of-type {\n",
       "        vertical-align: middle;\n",
       "    }\n",
       "\n",
       "    .dataframe tbody tr th {\n",
       "        vertical-align: top;\n",
       "    }\n",
       "\n",
       "    .dataframe thead th {\n",
       "        text-align: right;\n",
       "    }\n",
       "</style>\n",
       "<table border=\"1\" class=\"dataframe\">\n",
       "  <thead>\n",
       "    <tr style=\"text-align: right;\">\n",
       "      <th></th>\n",
       "      <th>0</th>\n",
       "      <th>1</th>\n",
       "      <th>2</th>\n",
       "      <th>3</th>\n",
       "      <th>4</th>\n",
       "      <th>5</th>\n",
       "      <th>6</th>\n",
       "      <th>7</th>\n",
       "      <th>8</th>\n",
       "      <th>9</th>\n",
       "      <th>10</th>\n",
       "      <th>11</th>\n",
       "      <th>12</th>\n",
       "      <th>13</th>\n",
       "      <th>14</th>\n",
       "      <th>15</th>\n",
       "      <th>16</th>\n",
       "      <th>17</th>\n",
       "    </tr>\n",
       "  </thead>\n",
       "  <tbody>\n",
       "    <tr>\n",
       "      <th>Cuantil</th>\n",
       "      <td>0.0</td>\n",
       "      <td>1.0</td>\n",
       "      <td>5.0</td>\n",
       "      <td>10.0</td>\n",
       "      <td>20.0</td>\n",
       "      <td>30.0</td>\n",
       "      <td>40.0</td>\n",
       "      <td>50.0</td>\n",
       "      <td>60.0</td>\n",
       "      <td>70.0</td>\n",
       "      <td>80.0</td>\n",
       "      <td>90.0</td>\n",
       "      <td>92.500</td>\n",
       "      <td>95.00</td>\n",
       "      <td>97.500</td>\n",
       "      <td>99.00</td>\n",
       "      <td>99.500</td>\n",
       "      <td>100.0</td>\n",
       "    </tr>\n",
       "    <tr>\n",
       "      <th>Valor_Cuantil</th>\n",
       "      <td>4.0</td>\n",
       "      <td>10.0</td>\n",
       "      <td>30.0</td>\n",
       "      <td>56.0</td>\n",
       "      <td>87.8</td>\n",
       "      <td>118.0</td>\n",
       "      <td>148.0</td>\n",
       "      <td>182.0</td>\n",
       "      <td>222.0</td>\n",
       "      <td>277.0</td>\n",
       "      <td>371.2</td>\n",
       "      <td>574.0</td>\n",
       "      <td>657.225</td>\n",
       "      <td>754.05</td>\n",
       "      <td>968.075</td>\n",
       "      <td>1170.49</td>\n",
       "      <td>1402.905</td>\n",
       "      <td>3025.0</td>\n",
       "    </tr>\n",
       "  </tbody>\n",
       "</table>\n",
       "</div>"
      ],
      "text/plain": [
       "                0     1     2     3     4      5      6      7      8      9   \\\n",
       "Cuantil        0.0   1.0   5.0  10.0  20.0   30.0   40.0   50.0   60.0   70.0   \n",
       "Valor_Cuantil  4.0  10.0  30.0  56.0  87.8  118.0  148.0  182.0  222.0  277.0   \n",
       "\n",
       "                  10     11       12      13       14       15        16  \\\n",
       "Cuantil         80.0   90.0   92.500   95.00   97.500    99.00    99.500   \n",
       "Valor_Cuantil  371.2  574.0  657.225  754.05  968.075  1170.49  1402.905   \n",
       "\n",
       "                   17  \n",
       "Cuantil         100.0  \n",
       "Valor_Cuantil  3025.0  "
      ]
     },
     "execution_count": 83,
     "metadata": {},
     "output_type": "execute_result"
    }
   ],
   "source": [
    "# Analizamos las variables numericas\n",
    "# Variable\n",
    "Cuantiles(desarrll[\"duracion\"]).transpose()\n",
    "# Nos hacemos la pregunta, podríamos acotar la variable?"
   ]
  },
  {
   "cell_type": "code",
   "execution_count": 84,
   "metadata": {},
   "outputs": [],
   "source": [
    "# Tratamiento para la variable ApplicantIncome\n",
    "cuantil_1 = np.percentile(desarrll[\"duracion\"],1)\n",
    "cuantil_99 = np.percentile(desarrll[\"duracion\"],99.5)\n",
    "\n",
    "# Reemplazamos el valor minimo y maximo\n",
    "desarrll.loc[desarrll[\"duracion\"]<cuantil_1,\"duracion\"] = cuantil_1\n",
    "desarrll.loc[desarrll[\"duracion\"]>cuantil_99,\"duracion\"] = cuantil_99"
   ]
  },
  {
   "cell_type": "code",
   "execution_count": 85,
   "metadata": {},
   "outputs": [
    {
     "data": {
      "text/plain": [
       "<matplotlib.axes._subplots.AxesSubplot at 0x22f9b64d518>"
      ]
     },
     "execution_count": 85,
     "metadata": {},
     "output_type": "execute_result"
    },
    {
     "data": {
      "image/png": "[encoded data removed]",
      "text/plain": [
       "<Figure size 432x288 with 1 Axes>"
      ]
     },
     "metadata": {
      "needs_background": "light"
     },
     "output_type": "display_data"
    }
   ],
   "source": [
    "plt.title('Gráfico de Cajas de Duracion')\n",
    "desarrll.boxplot(column='duracion')"
   ]
  },
  {
   "cell_type": "code",
   "execution_count": 86,
   "metadata": {},
   "outputs": [
    {
     "data": {
      "text/html": [
       "<div>\n",
       "<style scoped>\n",
       "    .dataframe tbody tr th:only-of-type {\n",
       "        vertical-align: middle;\n",
       "    }\n",
       "\n",
       "    .dataframe tbody tr th {\n",
       "        vertical-align: top;\n",
       "    }\n",
       "\n",
       "    .dataframe thead th {\n",
       "        text-align: right;\n",
       "    }\n",
       "</style>\n",
       "<table border=\"1\" class=\"dataframe\">\n",
       "  <thead>\n",
       "    <tr style=\"text-align: right;\">\n",
       "      <th></th>\n",
       "      <th>0</th>\n",
       "      <th>1</th>\n",
       "      <th>2</th>\n",
       "      <th>3</th>\n",
       "      <th>4</th>\n",
       "      <th>5</th>\n",
       "      <th>6</th>\n",
       "      <th>7</th>\n",
       "      <th>8</th>\n",
       "      <th>9</th>\n",
       "      <th>10</th>\n",
       "      <th>11</th>\n",
       "      <th>12</th>\n",
       "      <th>13</th>\n",
       "      <th>14</th>\n",
       "      <th>15</th>\n",
       "      <th>16</th>\n",
       "      <th>17</th>\n",
       "    </tr>\n",
       "  </thead>\n",
       "  <tbody>\n",
       "    <tr>\n",
       "      <th>Cuantil</th>\n",
       "      <td>0.0</td>\n",
       "      <td>1.0</td>\n",
       "      <td>5.0</td>\n",
       "      <td>10.0</td>\n",
       "      <td>20.0</td>\n",
       "      <td>30.0</td>\n",
       "      <td>40.0</td>\n",
       "      <td>50.0</td>\n",
       "      <td>60.0</td>\n",
       "      <td>70.0</td>\n",
       "      <td>80.0</td>\n",
       "      <td>90.0</td>\n",
       "      <td>92.500</td>\n",
       "      <td>95.00</td>\n",
       "      <td>97.500</td>\n",
       "      <td>99.00</td>\n",
       "      <td>99.500000</td>\n",
       "      <td>100.000</td>\n",
       "    </tr>\n",
       "    <tr>\n",
       "      <th>Valor_Cuantil</th>\n",
       "      <td>10.0</td>\n",
       "      <td>10.0</td>\n",
       "      <td>30.0</td>\n",
       "      <td>56.0</td>\n",
       "      <td>87.8</td>\n",
       "      <td>118.0</td>\n",
       "      <td>148.0</td>\n",
       "      <td>182.0</td>\n",
       "      <td>222.0</td>\n",
       "      <td>277.0</td>\n",
       "      <td>371.2</td>\n",
       "      <td>574.0</td>\n",
       "      <td>657.225</td>\n",
       "      <td>754.05</td>\n",
       "      <td>968.075</td>\n",
       "      <td>1170.49</td>\n",
       "      <td>1399.608525</td>\n",
       "      <td>1402.905</td>\n",
       "    </tr>\n",
       "  </tbody>\n",
       "</table>\n",
       "</div>"
      ],
      "text/plain": [
       "                 0     1     2     3     4      5      6      7      8   \\\n",
       "Cuantil         0.0   1.0   5.0  10.0  20.0   30.0   40.0   50.0   60.0   \n",
       "Valor_Cuantil  10.0  10.0  30.0  56.0  87.8  118.0  148.0  182.0  222.0   \n",
       "\n",
       "                  9      10     11       12      13       14       15  \\\n",
       "Cuantil         70.0   80.0   90.0   92.500   95.00   97.500    99.00   \n",
       "Valor_Cuantil  277.0  371.2  574.0  657.225  754.05  968.075  1170.49   \n",
       "\n",
       "                        16        17  \n",
       "Cuantil          99.500000   100.000  \n",
       "Valor_Cuantil  1399.608525  1402.905  "
      ]
     },
     "execution_count": 86,
     "metadata": {},
     "output_type": "execute_result"
    }
   ],
   "source": [
    "# Analizamos las variables numericas\n",
    "# Variable\n",
    "Cuantiles(desarrll[\"duracion\"]).transpose()\n",
    "# Nos hacemos la pregunta, podríamos acotar la variable?"
   ]
  },
  {
   "cell_type": "code",
   "execution_count": 87,
   "metadata": {},
   "outputs": [
    {
     "data": {
      "text/html": [
       "<div>\n",
       "<style scoped>\n",
       "    .dataframe tbody tr th:only-of-type {\n",
       "        vertical-align: middle;\n",
       "    }\n",
       "\n",
       "    .dataframe tbody tr th {\n",
       "        vertical-align: top;\n",
       "    }\n",
       "\n",
       "    .dataframe thead th {\n",
       "        text-align: right;\n",
       "    }\n",
       "</style>\n",
       "<table border=\"1\" class=\"dataframe\">\n",
       "  <thead>\n",
       "    <tr style=\"text-align: right;\">\n",
       "      <th></th>\n",
       "      <th>0</th>\n",
       "      <th>1</th>\n",
       "      <th>2</th>\n",
       "      <th>3</th>\n",
       "      <th>4</th>\n",
       "      <th>5</th>\n",
       "      <th>6</th>\n",
       "      <th>7</th>\n",
       "      <th>8</th>\n",
       "      <th>9</th>\n",
       "      <th>10</th>\n",
       "      <th>11</th>\n",
       "      <th>12</th>\n",
       "      <th>13</th>\n",
       "      <th>14</th>\n",
       "      <th>15</th>\n",
       "      <th>16</th>\n",
       "      <th>17</th>\n",
       "    </tr>\n",
       "  </thead>\n",
       "  <tbody>\n",
       "    <tr>\n",
       "      <th>Cuantil</th>\n",
       "      <td>0.0</td>\n",
       "      <td>1.0</td>\n",
       "      <td>5.0</td>\n",
       "      <td>10.0</td>\n",
       "      <td>20.0</td>\n",
       "      <td>30.0</td>\n",
       "      <td>40.0</td>\n",
       "      <td>50.0</td>\n",
       "      <td>60.0</td>\n",
       "      <td>70.0</td>\n",
       "      <td>80.0</td>\n",
       "      <td>90.0</td>\n",
       "      <td>92.5</td>\n",
       "      <td>95.0</td>\n",
       "      <td>97.5</td>\n",
       "      <td>99.0</td>\n",
       "      <td>99.5</td>\n",
       "      <td>100.0</td>\n",
       "    </tr>\n",
       "    <tr>\n",
       "      <th>Valor_Cuantil</th>\n",
       "      <td>1.0</td>\n",
       "      <td>1.0</td>\n",
       "      <td>1.0</td>\n",
       "      <td>1.0</td>\n",
       "      <td>1.0</td>\n",
       "      <td>1.0</td>\n",
       "      <td>2.0</td>\n",
       "      <td>2.0</td>\n",
       "      <td>2.0</td>\n",
       "      <td>3.0</td>\n",
       "      <td>4.0</td>\n",
       "      <td>6.0</td>\n",
       "      <td>6.0</td>\n",
       "      <td>8.0</td>\n",
       "      <td>11.0</td>\n",
       "      <td>16.0</td>\n",
       "      <td>19.0</td>\n",
       "      <td>50.0</td>\n",
       "    </tr>\n",
       "  </tbody>\n",
       "</table>\n",
       "</div>"
      ],
      "text/plain": [
       "                0    1    2     3     4     5     6     7     8     9     10  \\\n",
       "Cuantil        0.0  1.0  5.0  10.0  20.0  30.0  40.0  50.0  60.0  70.0  80.0   \n",
       "Valor_Cuantil  1.0  1.0  1.0   1.0   1.0   1.0   2.0   2.0   2.0   3.0   4.0   \n",
       "\n",
       "                 11    12    13    14    15    16     17  \n",
       "Cuantil        90.0  92.5  95.0  97.5  99.0  99.5  100.0  \n",
       "Valor_Cuantil   6.0   6.0   8.0  11.0  16.0  19.0   50.0  "
      ]
     },
     "execution_count": 87,
     "metadata": {},
     "output_type": "execute_result"
    }
   ],
   "source": [
    "# Analizamos las variables numericas\n",
    "# Variable\n",
    "Cuantiles(desarrll[\"campana\"]).transpose()\n",
    "# Nos hacemos la pregunta, podríamos acotar la variable?"
   ]
  },
  {
   "cell_type": "code",
   "execution_count": 88,
   "metadata": {},
   "outputs": [],
   "source": [
    "cuantil_99 = np.percentile(desarrll[\"campana\"],99.5)\n",
    "desarrll.loc[desarrll[\"campana\"]>cuantil_99,\"campana\"] = cuantil_99"
   ]
  },
  {
   "cell_type": "code",
   "execution_count": 89,
   "metadata": {},
   "outputs": [
    {
     "data": {
      "text/plain": [
       "<matplotlib.axes._subplots.AxesSubplot at 0x22f9b69cda0>"
      ]
     },
     "execution_count": 89,
     "metadata": {},
     "output_type": "execute_result"
    },
    {
     "data": {
      "image/png": "[encoded data removed]",
      "text/plain": [
       "<Figure size 432x288 with 1 Axes>"
      ]
     },
     "metadata": {
      "needs_background": "light"
     },
     "output_type": "display_data"
    }
   ],
   "source": [
    "plt.title('Gráfico de Cajas de Camapana')\n",
    "desarrll.boxplot(column='campana')"
   ]
  },
  {
   "cell_type": "code",
   "execution_count": 90,
   "metadata": {},
   "outputs": [
    {
     "data": {
      "text/html": [
       "<div>\n",
       "<style scoped>\n",
       "    .dataframe tbody tr th:only-of-type {\n",
       "        vertical-align: middle;\n",
       "    }\n",
       "\n",
       "    .dataframe tbody tr th {\n",
       "        vertical-align: top;\n",
       "    }\n",
       "\n",
       "    .dataframe thead th {\n",
       "        text-align: right;\n",
       "    }\n",
       "</style>\n",
       "<table border=\"1\" class=\"dataframe\">\n",
       "  <thead>\n",
       "    <tr style=\"text-align: right;\">\n",
       "      <th></th>\n",
       "      <th>0</th>\n",
       "      <th>1</th>\n",
       "      <th>2</th>\n",
       "      <th>3</th>\n",
       "      <th>4</th>\n",
       "      <th>5</th>\n",
       "      <th>6</th>\n",
       "      <th>7</th>\n",
       "      <th>8</th>\n",
       "      <th>9</th>\n",
       "      <th>10</th>\n",
       "      <th>11</th>\n",
       "      <th>12</th>\n",
       "      <th>13</th>\n",
       "      <th>14</th>\n",
       "      <th>15</th>\n",
       "      <th>16</th>\n",
       "      <th>17</th>\n",
       "    </tr>\n",
       "  </thead>\n",
       "  <tbody>\n",
       "    <tr>\n",
       "      <th>Cuantil</th>\n",
       "      <td>0.0</td>\n",
       "      <td>1.0</td>\n",
       "      <td>5.0</td>\n",
       "      <td>10.0</td>\n",
       "      <td>20.0</td>\n",
       "      <td>30.0</td>\n",
       "      <td>40.0</td>\n",
       "      <td>50.0</td>\n",
       "      <td>60.0</td>\n",
       "      <td>70.0</td>\n",
       "      <td>80.0</td>\n",
       "      <td>90.0</td>\n",
       "      <td>92.5</td>\n",
       "      <td>95.0</td>\n",
       "      <td>97.5</td>\n",
       "      <td>99.0</td>\n",
       "      <td>99.5</td>\n",
       "      <td>100.0</td>\n",
       "    </tr>\n",
       "    <tr>\n",
       "      <th>Valor_Cuantil</th>\n",
       "      <td>1.0</td>\n",
       "      <td>1.0</td>\n",
       "      <td>1.0</td>\n",
       "      <td>1.0</td>\n",
       "      <td>1.0</td>\n",
       "      <td>1.0</td>\n",
       "      <td>2.0</td>\n",
       "      <td>2.0</td>\n",
       "      <td>2.0</td>\n",
       "      <td>3.0</td>\n",
       "      <td>4.0</td>\n",
       "      <td>6.0</td>\n",
       "      <td>6.0</td>\n",
       "      <td>8.0</td>\n",
       "      <td>11.0</td>\n",
       "      <td>16.0</td>\n",
       "      <td>19.0</td>\n",
       "      <td>19.0</td>\n",
       "    </tr>\n",
       "  </tbody>\n",
       "</table>\n",
       "</div>"
      ],
      "text/plain": [
       "                0    1    2     3     4     5     6     7     8     9     10  \\\n",
       "Cuantil        0.0  1.0  5.0  10.0  20.0  30.0  40.0  50.0  60.0  70.0  80.0   \n",
       "Valor_Cuantil  1.0  1.0  1.0   1.0   1.0   1.0   2.0   2.0   2.0   3.0   4.0   \n",
       "\n",
       "                 11    12    13    14    15    16     17  \n",
       "Cuantil        90.0  92.5  95.0  97.5  99.0  99.5  100.0  \n",
       "Valor_Cuantil   6.0   6.0   8.0  11.0  16.0  19.0   19.0  "
      ]
     },
     "execution_count": 90,
     "metadata": {},
     "output_type": "execute_result"
    }
   ],
   "source": [
    "# Analizamos las variables numericas\n",
    "# Variable\n",
    "Cuantiles(desarrll[\"campana\"]).transpose()\n",
    "# Nos hacemos la pregunta, podríamos acotar la variable?"
   ]
  },
  {
   "cell_type": "code",
   "execution_count": 91,
   "metadata": {},
   "outputs": [
    {
     "data": {
      "text/plain": [
       "<matplotlib.axes._subplots.AxesSubplot at 0x22f9b721e80>"
      ]
     },
     "execution_count": 91,
     "metadata": {},
     "output_type": "execute_result"
    },
    {
     "data": {
      "image/png": "[encoded data removed]",
      "text/plain": [
       "<Figure size 576x576 with 1 Axes>"
      ]
     },
     "metadata": {
      "needs_background": "light"
     },
     "output_type": "display_data"
    }
   ],
   "source": [
    "plt.title('Histograma de la Variable Campana')\n",
    "desarrll['campana'].hist(figsize=(8,8),color=\"blue\",bins=100)"
   ]
  },
  {
   "cell_type": "code",
   "execution_count": 92,
   "metadata": {},
   "outputs": [],
   "source": [
    "from sklearn.model_selection import train_test_split\n",
    "X_train, X_test, y_train, y_test = train_test_split(desarrll.drop('Adq_Ahorro', axis=1), \n",
    "                                                    desarrll['Adq_Ahorro'], \n",
    "                                                    test_size=0.30,\n",
    "                                                    stratify=desarrll['Adq_Ahorro'],\n",
    "                                                    random_state=100)"
   ]
  },
  {
   "cell_type": "markdown",
   "metadata": {},
   "source": [
    "# Seleccion de variables\n",
    "\n"
   ]
  },
  {
   "cell_type": "markdown",
   "metadata": {},
   "source": [
    "Filter Method\n",
    "----"
   ]
  },
  {
   "cell_type": "code",
   "execution_count": 93,
   "metadata": {},
   "outputs": [],
   "source": [
    "import matplotlib.pyplot as plt\n",
    "import seaborn as sns"
   ]
  },
  {
   "cell_type": "code",
   "execution_count": 94,
   "metadata": {},
   "outputs": [
    {
     "data": {
      "image/png": "[encoded data removed]",
      "text/plain": [
       "<Figure size 864x720 with 2 Axes>"
      ]
     },
     "metadata": {
      "needs_background": "light"
     },
     "output_type": "display_data"
    }
   ],
   "source": [
    "#Using Pearson Correlation\n",
    "plt.figure(figsize=(12,10))\n",
    "cor = desarrll.corr()\n",
    "sns.heatmap(cor, annot=True, cmap=plt.cm.Reds)\n",
    "plt.show()"
   ]
  },
  {
   "cell_type": "code",
   "execution_count": 95,
   "metadata": {},
   "outputs": [
    {
     "data": {
      "text/plain": [
       "prestamo_is_no    1.0\n",
       "prestamo_is_si    1.0\n",
       "Name: prestamo_is_si, dtype: float64"
      ]
     },
     "execution_count": 95,
     "metadata": {},
     "output_type": "execute_result"
    }
   ],
   "source": [
    "#Correlation with output variable\n",
    "cor_target = abs(cor[\"prestamo_is_si\"])\n",
    "#Selecting highly correlated features\n",
    "relevant_features = cor_target[cor_target>0.5]\n",
    "relevant_features"
   ]
  },
  {
   "cell_type": "markdown",
   "metadata": {},
   "source": [
    "Embeded Method\n",
    "-----"
   ]
  },
  {
   "cell_type": "code",
   "execution_count": 96,
   "metadata": {},
   "outputs": [],
   "source": [
    "from sklearn.linear_model import RidgeCV, LassoCV, Ridge, Lasso"
   ]
  },
  {
   "cell_type": "code",
   "execution_count": null,
   "metadata": {},
   "outputs": [],
   "source": []
  },
  {
   "cell_type": "code",
   "execution_count": 98,
   "metadata": {},
   "outputs": [
    {
     "name": "stdout",
     "output_type": "stream",
     "text": [
      "Best alpha using built-in LassoCV: 0.030748\n",
      "Best score using built-in LassoCV: 0.177430\n"
     ]
    },
    {
     "name": "stderr",
     "output_type": "stream",
     "text": [
      "C:\\DeveloperPrograms\\Anaconda3\\lib\\site-packages\\sklearn\\model_selection\\_split.py:2053: FutureWarning: You should specify a value for 'cv' instead of relying on the default value. The default value will change from 3 to 5 in version 0.22.\n",
      "  warnings.warn(CV_WARNING, FutureWarning)\n"
     ]
    }
   ],
   "source": [
    "reg = LassoCV()\n",
    "X = desarrll.drop('Adq_Ahorro', axis=1)\n",
    "y = desarrll['Adq_Ahorro']\n",
    "reg.fit(desarrll.drop('Adq_Ahorro', axis=1), desarrll['Adq_Ahorro'])\n",
    "print(\"Best alpha using built-in LassoCV: %f\" % reg.alpha_)\n",
    "print(\"Best score using built-in LassoCV: %f\" %reg.score(X,y))\n",
    "coef = pd.Series(reg.coef_, index = X.columns)"
   ]
  },
  {
   "cell_type": "code",
   "execution_count": 99,
   "metadata": {},
   "outputs": [
    {
     "name": "stdout",
     "output_type": "stream",
     "text": [
      "Lasso picked 5 variables and eliminated the other 15 variables\n"
     ]
    }
   ],
   "source": [
    "print(\"Lasso picked \" + str(sum(coef != 0)) + \" variables and eliminated the other \" +  str(sum(coef == 0)) + \" variables\")"
   ]
  },
  {
   "cell_type": "code",
   "execution_count": 100,
   "metadata": {},
   "outputs": [
    {
     "data": {
      "text/plain": [
       "Text(0.5, 1.0, 'Feature importance using Lasso Model')"
      ]
     },
     "execution_count": 100,
     "metadata": {},
     "output_type": "execute_result"
    },
    {
     "data": {
      "image/png": "[encoded data removed]",
      "text/plain": [
       "<Figure size 576x720 with 1 Axes>"
      ]
     },
     "metadata": {
      "needs_background": "light"
     },
     "output_type": "display_data"
    }
   ],
   "source": [
    "imp_coef = coef.sort_values()\n",
    "import matplotlib\n",
    "matplotlib.rcParams['figure.figsize'] = (8.0, 10.0)\n",
    "imp_coef.plot(kind = \"barh\")\n",
    "plt.title(\"Feature importance using Lasso Model\")"
   ]
  },
  {
   "cell_type": "code",
   "execution_count": null,
   "metadata": {},
   "outputs": [],
   "source": []
  }
 ],
 "metadata": {
  "kernelspec": {
   "display_name": "Python 3",
   "language": "python",
   "name": "python3"
  },
  "language_info": {
   "codemirror_mode": {
    "name": "ipython",
    "version": 3
   },
   "file_extension": ".py",
   "mimetype": "text/x-python",
   "name": "python",
   "nbconvert_exporter": "python",
   "pygments_lexer": "ipython3",
   "version": "3.7.3"
  }
 },
 "nbformat": 4,
 "nbformat_minor": 2
}
